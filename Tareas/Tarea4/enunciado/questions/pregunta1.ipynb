{
 "cells": [
  {
   "cell_type": "markdown",
   "id": "232f4f28",
   "metadata": {},
   "source": [
    "# Tarea 4\n",
    "En esta tarea usted deberá completar el siguiente notebook, en el cual va a implementar el protocolo de firmas de anillo sobre grupos en general. Debe completar exclusivamente las partes marcadas con `##### POR COMPLETAR`."
   ]
  },
  {
   "cell_type": "markdown",
   "id": "9d9590d6-9ec6-4f5e-b1d2-b0776446851e",
   "metadata": {},
   "source": [
    "## Funciones auxiliares\n",
    "Necesitaremos un test de primalidad para revisar que no nos estén engañando cuando nos entreguen los parámetros del grupo."
   ]
  },
  {
   "cell_type": "code",
   "execution_count": null,
   "id": "87aaa8dd-1e50-4a28-88a2-950b7c4d7227",
   "metadata": {},
   "outputs": [],
   "source": [
    "import random\n",
    "\n",
    "def _is_natural_power(n):\n",
    "    # Para cada posible exponente, hacemos búsqueda binaria de la base\n",
    "    search_exponent = 2\n",
    "    \n",
    "    # Optimiazación: si n no es a ^ k no puede ser a ^ (kr) para ningún\n",
    "    # r, por lo que sólo probamos con exponentes primos\n",
    "    avoid_exponents = set()\n",
    "    \n",
    "    while pow(2, search_exponent) <= n:\n",
    "        \n",
    "        if search_exponent not in avoid_exponents:\n",
    "            # Usamos búsqueda binaria \"creciente\" para definir el intervalo\n",
    "            # inicial\n",
    "            search_start = 2\n",
    "            i = 2\n",
    "            while search_start ** search_exponent < n:\n",
    "                search_start *= 2\n",
    "                avoid_exponents.add(search_exponent * i)\n",
    "                i += 1\n",
    "                \n",
    "            upper = search_start\n",
    "            lower = search_start // 2\n",
    "\n",
    "            # Búsqueda binaria\n",
    "            while lower != upper:\n",
    "                mid = (upper + lower) // 2\n",
    "                result = pow(mid, search_exponent)\n",
    "                if result < n:\n",
    "                    lower = mid + 1\n",
    "                elif result > n:\n",
    "                    upper = mid\n",
    "                else:\n",
    "                    return True\n",
    "\n",
    "            # Caso borde en que upper ^ search_exponent era justo n\n",
    "            if pow(upper, search_exponent) == n:\n",
    "                return True\n",
    "            \n",
    "        search_exponent += 1\n",
    "    \n",
    "    return False"
   ]
  },
  {
   "cell_type": "code",
   "execution_count": null,
   "id": "f8c3290e-0033-460f-8894-3d988a9d7b27",
   "metadata": {},
   "outputs": [],
   "source": [
    "def _extended_euclid(a, b):\n",
    "    if a > b:\n",
    "        return _extended_euclid_base(a, b)\n",
    "    return _extended_euclid_base(b, a)\n",
    "\n",
    "def _extended_euclid_base(a, b):\n",
    "    prev_r, r = a, b\n",
    "    prev_s, s = 1, 0\n",
    "    prev_t, t = 0, 1\n",
    "\n",
    "    while r != 0:\n",
    "        q = prev_r // r\n",
    "        prev_r, r = r, prev_r % r\n",
    "        prev_s, s = s, prev_s - q * s\n",
    "        prev_t, t = t, prev_t - q * t\n",
    "\n",
    "    return prev_r, prev_s, prev_t"
   ]
  },
  {
   "cell_type": "code",
   "execution_count": null,
   "id": "b74ee674-87a8-4c5b-bc14-9a35cce79002",
   "metadata": {},
   "outputs": [],
   "source": [
    "def is_probably_prime(n, iterations=100):\n",
    "    if n == 2:\n",
    "        return True\n",
    "    if n % 2 == 0 or n == 1:\n",
    "        return False\n",
    "    if _is_natural_power(n):\n",
    "        return False\n",
    "    \n",
    "    found_negative = False\n",
    "    for i in range(iterations):\n",
    "        a = random.randint(1, n - 1)\n",
    "        if _extended_euclid(a, n)[0] > 1:\n",
    "            return False\n",
    "        b = pow(a, (n - 1) // 2, n)\n",
    "        if b == n - 1:\n",
    "            found_negative = True\n",
    "        elif b != 1:\n",
    "            return False\n",
    "    \n",
    "    return found_negative"
   ]
  },
  {
   "cell_type": "markdown",
   "id": "bbc79be1-7ead-44ac-ba59-d07e49062f8b",
   "metadata": {},
   "source": [
    "## Un primer grupo\n",
    "Como un primer ejemplo de grupo, consideramos a los grupos Z<sub>p</sub><sup>\\*</sup> vistos en clases. En particular, definimos la clase `ZpStar` cuyas instancias son estos grupos. Para representar a los elementos dentro de Z<sub>p</sub><sup>\\*</sup>, en su constructor se crea dinámicamente la clase `Element`."
   ]
  },
  {
   "cell_type": "code",
   "execution_count": null,
   "id": "b09a7361-e303-44b9-9e96-962a03265b83",
   "metadata": {},
   "outputs": [],
   "source": [
    "class ZpStar:\n",
    "    \n",
    "    def __init__(self, p):\n",
    "        if not is_probably_prime(p):\n",
    "            raise Exception(f\"p={p} is not a prime number\")\n",
    "        class Element:\n",
    "            def __init__(self, value):\n",
    "                if value < 1 or value > p-1:\n",
    "                    raise Exception(f\"value={value} is not in the range 1,...,{p-1}\")\n",
    "                self.value = value\n",
    "\n",
    "            # Allows to compare elements with ==\n",
    "            def __eq__(self, other_element):\n",
    "                return self.value == other_element.value\n",
    "\n",
    "            # Allows to operate elements with *\n",
    "            def __mul__(self, other_element):\n",
    "                return Element((self.value * other_element.value) % p)\n",
    "\n",
    "            # Allows to use ** as exponentiation\n",
    "            def __pow__(self, exponent):\n",
    "                return Element(pow(self.value, exponent, p))\n",
    "\n",
    "            # Allows to use str(e) to transform an element into a string\n",
    "            def __str__(self):\n",
    "                return str(self.value)\n",
    "\n",
    "        self.element_class = Element\n",
    "                \n",
    "    def get_identity(self):\n",
    "        return self.get_element(1)\n",
    "    \n",
    "    def get_element(self, n):\n",
    "        return self.element_class(n)"
   ]
  },
  {
   "cell_type": "markdown",
   "id": "4e70486b-d2e0-4f68-9ced-bd03a2df8095",
   "metadata": {},
   "source": [
    "Ahora vamos a definir una clase que inicializa a los participantes del anillo. Cada participante es una instancia de la clase `Signer` que será definida más adelante. De la misma forma que para la clase `ZpStar`, su implementación del constructor de la clase `RingSetup` debe generar excepciones si los parámetros entregados no son correctos (puede suponer que los tipos de estos parámetros siempre van a ser los correctos). Por ejemplo, si `subgroup_order` no es un número primo, entonces se debe generar una excepción (puede suponer que el valor entregado en `subgroup_order` va a ser un número natural mayor o igual a 1)."
   ]
  },
  {
   "cell_type": "code",
   "execution_count": null,
   "id": "733778db-6393-4d30-bf23-bf233be3933b",
   "metadata": {},
   "outputs": [],
   "source": [
    "import random\n",
    "\n",
    "class RingSetup:\n",
    "    def __init__(self, generator, subgroup_order, n_participants):\n",
    "        # Is the order of the generator correct? For this we check that\n",
    "        # 1. The subgroup order is prime\n",
    "        # 2. The generator to the power of subgroup_order is the identity\n",
    "        # 3. The generator is not the identity\n",
    "        ##### POR COMPLETAR\n",
    "    \n",
    "        # Generate a group of participants\n",
    "        self.participants = [\n",
    "            Signer(generator, subgroup_order) for _ in range(n_participants)\n",
    "        ]\n",
    "\n",
    "        # Store their public keys\n",
    "        self.public_keys = [x.get_public_key() for x in self.participants]\n",
    "\n",
    "    def get_public_keys(self):\n",
    "        return self.public_keys\n",
    "\n",
    "    def get_random_participant(self):\n",
    "        return random.choice(self.participants)"
   ]
  },
  {
   "cell_type": "markdown",
   "id": "7cbc7568-ab53-4d1c-b328-441a0ce0c2e6",
   "metadata": {},
   "source": [
    "Ahora definimos la clase `Signer`."
   ]
  },
  {
   "cell_type": "code",
   "execution_count": null,
   "id": "6737494c-c736-4afc-840f-b6154000ac58",
   "metadata": {},
   "outputs": [],
   "source": [
    "from hashlib import sha256\n",
    "\n",
    "class Signer():\n",
    "    def __init__(self, generator, subgroup_order):\n",
    "        self.generator = generator\n",
    "        self.subgroup_order = subgroup_order\n",
    "        \n",
    "        # Create and store a secret/public key pair\n",
    "        ##### POR COMPLETAR\n",
    "\n",
    "    def get_public_key(self):\n",
    "        return self.public_key\n",
    "\n",
    "    # Compute a ring signature for a message and a list of public keys\n",
    "    def generate_ring_signature(self, message, public_keys):\n",
    "        ##### POR COMPLETAR\n",
    "        pass"
   ]
  },
  {
   "cell_type": "markdown",
   "id": "f246db13-eee2-41c2-a5a7-554f8a620597",
   "metadata": {},
   "source": [
    "**Importante:** En la generación de firmas de anillo se debe calcular el hash de un elemento del grupo concatenado con el mensaje. En esta concatenación puede suponer que la forma de transformar los elementos del grupo a string viene dada por `str(n)`. Además, el resultado del hash se debe interpretar como un número, para lo cual debe usar `int.from_bytes(hash.digest())`."
   ]
  },
  {
   "cell_type": "markdown",
   "id": "62e5c299-ad93-4330-8fa7-8804442f933f",
   "metadata": {},
   "source": [
    "Ahora vamos con la implementación de una clase para verificar las firmas de anillo, llamada `Verifier`:"
   ]
  },
  {
   "cell_type": "code",
   "execution_count": null,
   "id": "4ebef73d-283b-401b-bdcb-f047037284b5",
   "metadata": {},
   "outputs": [],
   "source": [
    "class Verifier:\n",
    "    def __init__(self, generator, subgroup_order):\n",
    "        self.generator = generator\n",
    "        self.subgroup_order = subgroup_order\n",
    "\n",
    "    def verify_ring_signature(self, public_keys, message, signatures, challenge, challenge_index):\n",
    "        # Verify a ring signature\n",
    "        ##### POR COMPLETAR\n",
    "        pass"
   ]
  },
  {
   "cell_type": "markdown",
   "id": "2074a2be",
   "metadata": {},
   "source": [
    "Recuerde que estas clases están definidas para cualquier grupo, y por lo tanto se espera que su implementación funcione con una interfaz genérica para interactuar con estos objetos. Por ejemplo, en el siguiente código se utiliza el grupo Z<sub>643</sub><sup>\\*</sup>."
   ]
  },
  {
   "cell_type": "code",
   "execution_count": null,
   "id": "ae8271ba-b37b-45ef-81c8-e45c22468d5f",
   "metadata": {},
   "outputs": [],
   "source": [
    "if __name__ == \"__main__\":\n",
    "    p, generator, order = 643, 4, 107\n",
    "\n",
    "    group = ZpStar(p)\n",
    "    g = group.get_element(generator)\n",
    "\n",
    "    ring = RingSetup(g, order, 5)\n",
    "    signer = ring.get_random_participant()\n",
    "\n",
    "    message = \"Hello from IIC3253\"\n",
    "    print(f\"Message:               {message}\")\n",
    "    print(f\"Public keys:           {[str(x) for x in ring.get_public_keys()]}\")\n",
    "\n",
    "    signatures, challenge, challenge_index = signer.generate_ring_signature(\n",
    "        message, ring.get_public_keys()\n",
    "    )\n",
    "    print(f\"Signatures:            {signatures}\")\n",
    "    print(f\"Challenge index:       {challenge_index}\")\n",
    "    print(f\"Challenge:             {challenge}\")\n",
    "    \n",
    "    verifier = Verifier(g, order)\n",
    "    result = verifier.verify_ring_signature(ring.get_public_keys(), message, signatures, challenge, challenge_index)\n",
    "    print(f\"Correct signature:     {result}\")\n",
    "\n",
    "    signatures[0] = (signatures[0] - 1) % order\n",
    "    result = verifier.verify_ring_signature(ring.get_public_keys(), message, signatures, challenge, challenge_index)\n",
    "    print(f\"Incorrect signature:   {result}\")"
   ]
  },
  {
   "cell_type": "markdown",
   "id": "94d28b67-0be9-4dab-a730-d856a510adc0",
   "metadata": {},
   "source": [
    "Una vez que haya completado las definiciones de las clases para generar y verificar firmas de anillo, el código anterior debe mostrar algo como lo siguiente:\n",
    "```\n",
    "Message:               Hello from IIC3253\n",
    "Public keys:           ['516', '134', '616', '135', '375']\n",
    "Signatures:            [86, 105, 97, 77, 63]\n",
    "Challenge index:       2\n",
    "Challenge:             27\n",
    "Correct signature:     True\n",
    "Incorrect signature:   False\n",
    "``` "
   ]
  },
  {
   "cell_type": "markdown",
   "id": "e79e5631",
   "metadata": {},
   "source": [
    "Como un segundo ejemplo considere un grupo Z<sub>p</sub><sup>\\*</sup> que es usado en la práctica."
   ]
  },
  {
   "cell_type": "code",
   "execution_count": null,
   "id": "3e889644",
   "metadata": {},
   "outputs": [],
   "source": [
    "if __name__ == \"__main__\":\n",
    "    p = 17125458317614137930196041979257577826408832324037508573393292981642667139747621778802438775238728592968344613589379932348475613503476932163166973813218698343816463289144185362912602522540494983090531497232965829536524507269848825658311420299335922295709743267508322525966773950394919257576842038771632742044142471053509850123605883815857162666917775193496157372656195558305727009891276006514000409365877218171388319923896309377791762590614311849642961380224851940460421710449368927252974870395873936387909672274883295377481008150475878590270591798350563488168080923804611822387520198054002990623911454389104774092183\n",
    "    generator = 8041367327046189302693984665026706374844608289874374425728797669509435881459140662650215832833471328470334064628508692231999401840332046192569287351991689963279656892562484773278584208040987631569628520464069532361274047374444344996651832979378318849943741662110395995778429270819222431610927356005913836932462099770076239554042855287138026806960470277326229482818003962004453764400995790974042663675692120758726145869061236443893509136147942414445551848162391468541444355707785697825741856849161233887307017428371823608125699892904960841221593344499088996021883972185241854777608212592397013510086894908468466292313\n",
    "    order = 63762351364972653564641699529205510489263266834182771617563631363277932854227\n",
    "\n",
    "    group = ZpStar(p)\n",
    "    g = group.get_element(generator)\n",
    "\n",
    "    ring = RingSetup(g, order, 5)\n",
    "    signer = ring.get_random_participant()\n",
    "\n",
    "    message = \"Hello from IIC3253\"\n",
    "    print(f\"Message:             {message}\")\n",
    "    print(f\"Public keys:         {[str(x) for x in ring.get_public_keys()]}\")\n",
    "\n",
    "    signatures, challenge, challenge_index = signer.generate_ring_signature(\n",
    "        message, ring.get_public_keys()\n",
    "    )\n",
    "    print(f\"Signatures:          {signatures}\")\n",
    "    print(f\"Challenge index:     {challenge_index}\")\n",
    "    print(f\"Challenge:           {challenge}\")\n",
    "    \n",
    "    verifier = Verifier(g, order)\n",
    "    result = verifier.verify_ring_signature(ring.get_public_keys(), message, signatures, challenge, challenge_index)\n",
    "    print(f\"Correct signature:   {result}\")\n",
    "\n",
    "    signatures[0] = (signatures[0] - 1) % order\n",
    "    result = verifier.verify_ring_signature(ring.get_public_keys(), message, signatures, challenge, challenge_index)\n",
    "    print(f\"Incorrect signature: {result}\")"
   ]
  },
  {
   "cell_type": "markdown",
   "id": "065182fa",
   "metadata": {},
   "source": [
    "**El código anterior debe mostrar algo como lo siguiente:**\n",
    "```\n",
    "Message:             Hello from IIC3253\n",
    "Public keys:         ['2517830512706408905921795855478002593728536695564369541215433752818688200930590557321299749909051472598879120669335098679086201990588247107010097789653908195551279752437632812718275665598981544118144222483417971539126504478450162602157945937397010648489810647065718469382490168669506251046596417881288288171215855554980819427900171741067720532072516680911006949212485467714683404806945579430182054185594443083586850777040120636465968567638599770255939529206928681124967241910901964546789495870764845450024463889404074510190345750685029474604222569514695003846590369682128367051616414901526467695451326379530045592558', '5270207660733698677379444365513408945379377744136899605872564684007387713297275698259389271331930313222248833279818234133325676502997718277365522335802337127213514973087876911959363974028273837680146332749956406312939587316639326361234287134092889550128946946101251194071838292511417343437360053204333113338720434879059546692509087163054679902770733671764169657087871075083734807460448525636150851282642301952677377786268613136393396241253172078947686682915121559772901880565429197026581606172653634629737742972730555848587200334173694239746043842512888925331708616088881856959738377640477242461071750154708445903616', '4290295718095021988675445254121177064863324098662129262783066199469507095390516614588988784651151081847021838069891388637529024358958231522272516661319379263876975933462254915722181953593832102307038557688856863115076519944152396276190121166385820722775366668295276897317161080467748260348839347932318372823312916424994870126430320104002626579135764282125149078013816804252753118899663976237356011515563337011529792802079272290889759995602735879894050605524591966120664658302635005498072511909994294820012378422696663138258009667356360478704456532326341271584849827662837920312336384196576119296369494018430685468680', '13792847608938719465184496332605495096772014492434818726820448973297625496110337310281695366283943689427744865104761363751586849817037871594690900944374765560486045299130773160170404295646136697636055430219586235874176864304625904266871799915419701399962491391759960375485495587129510617070673009476085756962339636286982291420431354276948191820174224482149383930112834886359364335440659720974265296031634791799861703217132358202332570036784042806999307622122074702481782599438455896989610919983313634466780919462516927530851986252215197877236167006541209043383326112119567715847311805192263845904388190616238648430734', '10011078702742748907877554549063737917030769568096501612653682793110146578391243951572559566683051226189421993140073553893701244152062899876172823506318029601710934733311666584459325204769544040648426353181104063982839933074363401080841815187865036706004492352679601943018686523833801129336689360092848382674867507625546496061084567233837778157788044099412181417511241329506870819948620917334468651158286352700116572819839763989519373583221395470872779149373633862617623122324677676370003431239489306454790584454370900581651101310475827028596893256364366744902336888869996807856811203508203406395657423171781292944255']\n",
    "Signatures:          [10722411777402596653275815292584573392618152762220609600942110785187707759044, 37006871206013953327579217019949343495896645068493381253815289376515652692533, 9428846663174133374369642171000979807568209932573864941983380633043202379046, 7034677916731842110320680178801060993252839947995940335124833952064825645650, 55236473929309756355522738164922161011054131084796464363101483140615989833630]\n",
    "Challenge index:     2\n",
    "Challenge:           46334889421771799592061293299405443101194458819117162433548846027888672198309\n",
    "Correct signature:   True\n",
    "Incorrect signature: False\n",
    "```"
   ]
  },
  {
   "cell_type": "markdown",
   "id": "008c46b0-7b08-4ee6-8f66-ba6d21032e15",
   "metadata": {},
   "source": [
    "## Utilizando curvas elípticas\n",
    "En esta parte usaremos grupos definidos por curvas elípticas. En particular, debe completar la siguiente definición de la clase `EllipticCurve` considerando la definición de curvas elípticas dada en la ecuación (9.2) del la sección 9.3.4 del libro:\n",
    "\n",
    "Jonathan Katz y Yehuda Lindell. Introduction to Modern Cryptography. Chapman and Hall/CRC,\n",
    "tercera edición, 2021."
   ]
  },
  {
   "cell_type": "code",
   "execution_count": null,
   "id": "9f8cc175",
   "metadata": {},
   "outputs": [],
   "source": [
    "class EllipticCurve:\n",
    "    def __init__(self, A, B, p):\n",
    "        ##### POR COMPLETAR\n",
    "        pass\n",
    "    \n",
    "        class Element:\n",
    "            def __init__(self, x, y = None):\n",
    "                ##### POR COMPLETAR\n",
    "                pass\n",
    "\n",
    "            def __eq__(self, other_element):\n",
    "                ##### POR COMPLETAR\n",
    "                pass\n",
    "\n",
    "            def __mul__(self, other_element):\n",
    "                ##### POR COMPLETAR\n",
    "                pass\n",
    "                    \n",
    "            def __pow__(self, exponent):\n",
    "                ##### POR COMPLETAR\n",
    "                pass\n",
    "\n",
    "            def __str__(self):\n",
    "                ##### POR COMPLETAR\n",
    "                pass\n",
    "                    \n",
    "        self.element_class = Element\n",
    "                \n",
    "    def get_identity(self):\n",
    "        ##### POR COMPLETAR\n",
    "        pass\n",
    "                    \n",
    "    def get_element(self, x, y):\n",
    "        ##### POR COMPLETAR\n",
    "        pass"
   ]
  },
  {
   "cell_type": "markdown",
   "id": "da14a4e7",
   "metadata": {},
   "source": [
    "En esta definición de `EllipticCurve`, dado un número primo `p`, cada punto sobre la curva es un par ordenado `(x,y)` con `x` e `y` en el conjunto `{0, ..., p-1}`, excepto por el neutro del grupo que un elemento especial que no necesita notación de par ordenado (ver el libro de Katz & Lindell para una explicación de esto). Por esto el constructor de la clase `EllipticCurve` recibe dos argumentos para representar un par ordenado, y también considera el caso en que `y` no esté definido porque se está utilizando el elemento neutro."
   ]
  },
  {
   "cell_type": "markdown",
   "id": "3714219a-d4c3-4d1f-9132-89fcf9a1be2e",
   "metadata": {},
   "source": [
    "**Importante:** Dado un elemento `g = (x, y)` del grupo, diremos que su interpretación como string es literalmente `(x, y)` (notar el espacio después de la coma). Es decir, la interpretación como string se debe calcular de la forma `f\"({self.x}, {self.y})\"`."
   ]
  },
  {
   "cell_type": "markdown",
   "id": "edf91b6e",
   "metadata": {},
   "source": [
    "De la misma forma que para la clase `ZpStar`, su implementación del constructor de la clase `EllipticCurve` debe generar excepciones si los parámetros entregados no son correctos (puede suponer que los tipos de estos parámetros siempre van a ser los correctos). Por ejemplo, si `p` no es un número primo, entonces se debe generar una excepción."
   ]
  },
  {
   "cell_type": "markdown",
   "id": "e311731b",
   "metadata": {},
   "source": [
    "Su definición de la clase `EllipticCurve` va a ser utilizada por la implementación del protocolo de firmas de anillos de la misma forma que para la clase `ZpStar`. Por ejemplo, en el siguiente código se utilizan firmas de anillos sobre la curva elíptica [P-256](https://neuromancer.sk/std/nist/P-256)."
   ]
  },
  {
   "cell_type": "code",
   "execution_count": null,
   "id": "85c3b7b1",
   "metadata": {},
   "outputs": [],
   "source": [
    "if __name__ == \"__main__\":\n",
    "    p = 115792089210356248762697446949407573530086143415290314195533631308867097853951\n",
    "    A = 115792089210356248762697446949407573530086143415290314195533631308867097853948\n",
    "    B = 41058363725152142129326129780047268409114441015993725554835256314039467401291\n",
    "    g_x = 48439561293906451759052585252797914202762949526041747995844080717082404635286\n",
    "    g_y = 36134250956749795798585127919587881956611106672985015071877198253568414405109\n",
    "    order = 115792089210356248762697446949407573529996955224135760342422259061068512044369\n",
    "\n",
    "    group = EllipticCurve(A, B, p)\n",
    "    g = group.get_element(g_x, g_y)\n",
    "    \n",
    "    ring = RingSetup(g, order, 5)\n",
    "    signer = ring.get_random_participant()\n",
    "\n",
    "    message = \"Hello from IIC3253\"\n",
    "    print(f\"Message:             {message}\")\n",
    "    print(f\"Public keys:         {[str(x) for x in ring.get_public_keys()]}\")\n",
    "\n",
    "    signatures, challenge, challenge_index = signer.generate_ring_signature(\n",
    "        message, ring.get_public_keys()\n",
    "    )\n",
    "    print(f\"Signatures:          {signatures}\")\n",
    "    print(f\"Challenge index:     {challenge_index}\")\n",
    "    print(f\"Challenge:           {challenge}\")\n",
    "    \n",
    "    verifier = Verifier(g, order)\n",
    "    result = verifier.verify_ring_signature(ring.get_public_keys(), message, signatures, challenge, challenge_index)\n",
    "    print(f\"Correct signature:   {result}\")\n",
    "\n",
    "    signatures[0] = (signatures[0] - 1) % order\n",
    "    result = verifier.verify_ring_signature(ring.get_public_keys(), message, signatures, challenge, challenge_index)\n",
    "    print(f\"Incorrect signature: {result}\")"
   ]
  },
  {
   "cell_type": "markdown",
   "id": "579cb614",
   "metadata": {},
   "source": [
    "**El código anterior debe mostrar algo como lo siguiente:**\n",
    "\n",
    "Message:             Hello from IIC3253\n",
    "\n",
    "Public keys:\n",
    "['(36228047005606623638394851230173192734851072661042561449319473736621754039520, 20172362822856456120421044511946279043257074756688522685143706143736092565958)', '(58564759885583515378683115765772107948142614786701727763264984960945695330334, 79129698021788006657426468620527515930126766311369828883900257058578878052857)', '(25108858240980601702082892074061491934513031462242737558923411453375449067242, 76425488572625390607396261141639007962966296877847096915671747178845593774896)', '(6701657221200507285541433974699587733893239378552437797081211908168708912451, 97013597839749465309655953073668617169117780346910872542402314282358373971520)', '(113015587168257705614560565034856000733681336982911328860838726980840022492723, 54104620305347279303971506213405538556140509029853428898553160506673533048482)']\n",
    "\n",
    "Signatures:\n",
    "[77654962933025577729744678855999034023206810390864799379806439528613544048007, 72513278071731766598881593643721383994593537425755886558349450371764918110449, 28944527442594298721839943005624633745105995076212793147845350194880884108800, 90231818693911206835713485736658448057422079278315344453989541044751933614865, 25344903812783089196604799883051329695362840222494910906975057115807269376447]\n",
    "\n",
    "Challenge index:     2\n",
    "\n",
    "Challenge:           86130958050425514850634115208684686516639197236630218119818914977367756079082\n",
    "\n",
    "Correct signature:   True\n",
    "\n",
    "Incorrect signature: False"
   ]
  },
  {
   "cell_type": "markdown",
   "id": "eb6bc1da",
   "metadata": {},
   "source": [
    "## ¡Buena suerte con la tarea!"
   ]
  }
 ],
 "metadata": {
  "kernelspec": {
   "display_name": "Python 3 (ipykernel)",
   "language": "python",
   "name": "python3"
  },
  "language_info": {
   "codemirror_mode": {
    "name": "ipython",
    "version": 3
   },
   "file_extension": ".py",
   "mimetype": "text/x-python",
   "name": "python",
   "nbconvert_exporter": "python",
   "pygments_lexer": "ipython3",
   "version": "3.13.3"
  }
 },
 "nbformat": 4,
 "nbformat_minor": 5
}
